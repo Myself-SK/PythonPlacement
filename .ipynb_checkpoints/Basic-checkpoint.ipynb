{
 "cells": [
  {
   "cell_type": "code",
   "execution_count": null,
   "id": "6fc3e2ad",
   "metadata": {},
   "outputs": [],
   "source": [
    "# Primitive Datatypes\n",
    "int\n",
    "float\n",
    "complex\n",
    "str\n",
    "list\n",
    "dict\n",
    "tuple\n",
    "set\n",
    "bool"
   ]
  },
  {
   "cell_type": "code",
   "execution_count": 14,
   "id": "29f53dbe",
   "metadata": {},
   "outputs": [
    {
     "data": {
      "text/plain": [
       "False"
      ]
     },
     "execution_count": 14,
     "metadata": {},
     "output_type": "execute_result"
    }
   ],
   "source": [
    "a=10\n",
    "isinstance(a,float)"
   ]
  },
  {
   "cell_type": "code",
   "execution_count": 15,
   "id": "a75ff019",
   "metadata": {},
   "outputs": [
    {
     "data": {
      "text/plain": [
       "int"
      ]
     },
     "execution_count": 15,
     "metadata": {},
     "output_type": "execute_result"
    }
   ],
   "source": [
    "type(a)"
   ]
  },
  {
   "cell_type": "code",
   "execution_count": null,
   "id": "62e91267",
   "metadata": {},
   "outputs": [],
   "source": [
    "Operators:\n",
    "    Arithmetic:\n",
    "        + - * / % //(floor Division) **(Exponential)\n",
    "    Assignment:\n",
    "        = += -= *= /= %= //= **= &= |= ^= <<= >>=\n",
    "    Relational:\n",
    "        > < >= <= == !=\n",
    "    Bitwise:\n",
    "        & | ^ << >>\n",
    "    Logical:\n",
    "        and or not\n",
    "    Special:\n",
    "        Membership:\n",
    "            in\n",
    "            not in\n",
    "        Identity:\n",
    "            is\n",
    "            is not"
   ]
  },
  {
   "cell_type": "code",
   "execution_count": 2,
   "id": "faf716af",
   "metadata": {},
   "outputs": [
    {
     "data": {
      "text/plain": [
       "6"
      ]
     },
     "execution_count": 2,
     "metadata": {},
     "output_type": "execute_result"
    }
   ],
   "source": [
    "13//2"
   ]
  },
  {
   "cell_type": "code",
   "execution_count": 4,
   "id": "d25ba000",
   "metadata": {},
   "outputs": [
    {
     "data": {
      "text/plain": [
       "8"
      ]
     },
     "execution_count": 4,
     "metadata": {},
     "output_type": "execute_result"
    }
   ],
   "source": [
    "2**3"
   ]
  },
  {
   "cell_type": "code",
   "execution_count": 8,
   "id": "94839393",
   "metadata": {},
   "outputs": [],
   "source": [
    "a=10\n",
    "# a=a+10\n",
    "\n",
    "a+=10"
   ]
  },
  {
   "cell_type": "code",
   "execution_count": 9,
   "id": "150d62da",
   "metadata": {},
   "outputs": [
    {
     "data": {
      "text/plain": [
       "20"
      ]
     },
     "execution_count": 9,
     "metadata": {},
     "output_type": "execute_result"
    }
   ],
   "source": [
    "a"
   ]
  },
  {
   "cell_type": "code",
   "execution_count": 10,
   "id": "d298c750",
   "metadata": {},
   "outputs": [
    {
     "data": {
      "text/plain": [
       "2"
      ]
     },
     "execution_count": 10,
     "metadata": {},
     "output_type": "execute_result"
    }
   ],
   "source": [
    "10 & 2\n"
   ]
  },
  {
   "cell_type": "code",
   "execution_count": 11,
   "id": "0acdd472",
   "metadata": {},
   "outputs": [
    {
     "data": {
      "text/plain": [
       "10"
      ]
     },
     "execution_count": 11,
     "metadata": {},
     "output_type": "execute_result"
    }
   ],
   "source": [
    "10 | 2\n"
   ]
  },
  {
   "cell_type": "code",
   "execution_count": 12,
   "id": "2667c7de",
   "metadata": {},
   "outputs": [
    {
     "data": {
      "text/plain": [
       "8"
      ]
     },
     "execution_count": 12,
     "metadata": {},
     "output_type": "execute_result"
    }
   ],
   "source": [
    "10 ^ 2"
   ]
  },
  {
   "cell_type": "code",
   "execution_count": 13,
   "id": "9be332fe",
   "metadata": {},
   "outputs": [
    {
     "data": {
      "text/plain": [
       "40"
      ]
     },
     "execution_count": 13,
     "metadata": {},
     "output_type": "execute_result"
    }
   ],
   "source": [
    "10 << 2"
   ]
  },
  {
   "cell_type": "code",
   "execution_count": 14,
   "id": "c2fc9ccb",
   "metadata": {},
   "outputs": [
    {
     "data": {
      "text/plain": [
       "2"
      ]
     },
     "execution_count": 14,
     "metadata": {},
     "output_type": "execute_result"
    }
   ],
   "source": [
    "10 >> 2"
   ]
  },
  {
   "cell_type": "code",
   "execution_count": null,
   "id": "66f705b3",
   "metadata": {},
   "outputs": [],
   "source": [
    "1010"
   ]
  },
  {
   "cell_type": "code",
   "execution_count": 17,
   "id": "d8669724",
   "metadata": {},
   "outputs": [],
   "source": [
    "l = [1,2,3,43,5,6,7657,768,7,3,4234,2345,345,56,123,34,43,65457,56,234,23,412,334,5546,123456]"
   ]
  },
  {
   "cell_type": "code",
   "execution_count": 22,
   "id": "c1b644c0",
   "metadata": {},
   "outputs": [],
   "source": [
    "x = 1234567"
   ]
  },
  {
   "cell_type": "code",
   "execution_count": 23,
   "id": "caea0bf4",
   "metadata": {},
   "outputs": [],
   "source": [
    "# for(i=0;i<n;i++){\n",
    "#     if(a[i]==x){\n",
    "#         printf(\"%d is found\",x);\n",
    "#         found=1;\n",
    "#         break;\n",
    "#     }\n",
    "# }\n",
    "# if(found==0)\n",
    "#     printf(\"%d is not Present\");\n",
    "# Python Code\n",
    "# isFound=False\n",
    "# for i in l:\n",
    "#     if i==x:\n",
    "#         print(\"{} is found\".format(x))\n",
    "#         isFound=True\n",
    "#         break\n",
    "# if not isFound:\n",
    "#     print(\"{} is not Found\".format(x))"
   ]
  },
  {
   "cell_type": "code",
   "execution_count": 25,
   "id": "2e239ed8",
   "metadata": {},
   "outputs": [
    {
     "name": "stdout",
     "output_type": "stream",
     "text": [
      "1234567 not Found\n"
     ]
    }
   ],
   "source": [
    "if x in l:\n",
    "    print(\"{} is Found\".format(x))\n",
    "else:\n",
    "    print(\"{} not Found\".format(x))\n",
    "    "
   ]
  },
  {
   "cell_type": "code",
   "execution_count": 26,
   "id": "1f9e9173",
   "metadata": {},
   "outputs": [
    {
     "data": {
      "text/plain": [
       "True"
      ]
     },
     "execution_count": 26,
     "metadata": {},
     "output_type": "execute_result"
    }
   ],
   "source": [
    "x not in l"
   ]
  },
  {
   "cell_type": "code",
   "execution_count": 29,
   "id": "97cbf337",
   "metadata": {},
   "outputs": [
    {
     "data": {
      "text/plain": [
       "False"
      ]
     },
     "execution_count": 29,
     "metadata": {},
     "output_type": "execute_result"
    }
   ],
   "source": [
    "a = \"Python\"\n",
    "b = \"Python\"\n",
    "#  C Code\n",
    "#include<string.h>\n",
    "# strcmp(a,b)\n",
    "# Without using Inbuilt Func\n",
    "# match=1\n",
    "# for(i=0;a[i]!='\\0';i++){\n",
    "#     if(a[i]!=b[i]){\n",
    "#         match=0\n",
    "#         break\n",
    "#     }\n",
    "# }\n",
    "# if(match)printf(\"Same\")\n",
    "# else printf(\"Diff\")\n",
    "\n",
    "# Python\n",
    "a is not b"
   ]
  },
  {
   "cell_type": "code",
   "execution_count": null,
   "id": "52e1eb41",
   "metadata": {},
   "outputs": [],
   "source": [
    "input\n",
    "print"
   ]
  },
  {
   "cell_type": "code",
   "execution_count": 35,
   "id": "002e97de",
   "metadata": {},
   "outputs": [
    {
     "name": "stdout",
     "output_type": "stream",
     "text": [
      "Enter a Digit10\n"
     ]
    }
   ],
   "source": [
    "n  = int(input(\"Enter a Digit\"))"
   ]
  },
  {
   "cell_type": "code",
   "execution_count": 38,
   "id": "2f0eb019",
   "metadata": {},
   "outputs": [
    {
     "name": "stdout",
     "output_type": "stream",
     "text": [
      "hi$my$phone$digit$has$10$numbers\n"
     ]
    }
   ],
   "source": [
    "print(\"hi\",\"my\",\"phone\",\"digit\",\"has\",n,\"numbers\",sep='$')"
   ]
  },
  {
   "cell_type": "code",
   "execution_count": 40,
   "id": "d000a737",
   "metadata": {},
   "outputs": [
    {
     "name": "stdout",
     "output_type": "stream",
     "text": [
      "10&20\n"
     ]
    }
   ],
   "source": [
    "print(10,end=\"&\")\n",
    "print(20)"
   ]
  },
  {
   "cell_type": "code",
   "execution_count": 46,
   "id": "a42e7223",
   "metadata": {},
   "outputs": [],
   "source": [
    "l = [\n",
    "    [1,-1,1],\n",
    "    [-1,4,5],\n",
    "    [1,2,3]\n",
    "]"
   ]
  },
  {
   "cell_type": "code",
   "execution_count": 49,
   "id": "7113d646",
   "metadata": {},
   "outputs": [
    {
     "name": "stdout",
     "output_type": "stream",
     "text": [
      "1 2 3 \n"
     ]
    }
   ],
   "source": [
    "for i in l:\n",
    "    if -1 not in i:\n",
    "        for j in i:\n",
    "            print(j,end=\" \")\n",
    "        print()"
   ]
  },
  {
   "cell_type": "raw",
   "id": "8ae0742a",
   "metadata": {},
   "source": [
    "Conditional Statements:\n",
    "    if\n",
    "    else\n",
    "    if elif ladder\n",
    "    nested if\n",
    "    multiple if"
   ]
  },
  {
   "cell_type": "code",
   "execution_count": null,
   "id": "278eecd9",
   "metadata": {},
   "outputs": [],
   "source": [
    "if(cond){\n",
    "    statements\n",
    "    statements\n",
    "    statements\n",
    "    statements\n",
    "    statements\n",
    "    statements\n",
    "}"
   ]
  },
  {
   "cell_type": "raw",
   "id": "5235b89a",
   "metadata": {},
   "source": [
    "if condition:\n",
    "    statements\n",
    "    statements\n",
    "    if condition:\n",
    "        while cond:\n",
    "            statements\n",
    "    else:\n",
    "        statements\n",
    "else:\n",
    "    statements\n",
    "    "
   ]
  },
  {
   "cell_type": "code",
   "execution_count": 9,
   "id": "627431fb",
   "metadata": {},
   "outputs": [],
   "source": [
    "a=200\n",
    "b=200\n",
    "if a>b:print(\"A is greater\")\n",
    "if b>a:print(\"B is greater\")"
   ]
  },
  {
   "cell_type": "code",
   "execution_count": 10,
   "id": "0d398499",
   "metadata": {},
   "outputs": [
    {
     "name": "stdout",
     "output_type": "stream",
     "text": [
      "B is greater\n"
     ]
    }
   ],
   "source": [
    "a=200\n",
    "b=200\n",
    "if a>b:print(\"A is greater\")\n",
    "else:print(\"B is greater\")"
   ]
  },
  {
   "cell_type": "raw",
   "id": "33034c5b",
   "metadata": {},
   "source": [
    "if cond:\n",
    "    statement\n",
    "elif cond:\n",
    "    statement\n",
    "elif cond:\n",
    "    statement\n",
    "elif cond:\n",
    "    statement\n",
    "elif cond:\n",
    "    statement\n",
    "else:\n",
    "    statement"
   ]
  },
  {
   "cell_type": "code",
   "execution_count": 11,
   "id": "2391195e",
   "metadata": {},
   "outputs": [
    {
     "name": "stdout",
     "output_type": "stream",
     "text": [
      "A>=10\n"
     ]
    }
   ],
   "source": [
    "a=10\n",
    "if a>10:\n",
    "    print(\"A>=10\")\n",
    "elif a<10:\n",
    "    print(\"A<=10\")\n",
    "elif a==10:\n",
    "    print(\"A==10\")\n",
    "else:\n",
    "    print(\"A!=10\")"
   ]
  },
  {
   "cell_type": "code",
   "execution_count": null,
   "id": "6b0561eb",
   "metadata": {},
   "outputs": [],
   "source": []
  }
 ],
 "metadata": {
  "kernelspec": {
   "display_name": "Python 3 (ipykernel)",
   "language": "python",
   "name": "python3"
  },
  "language_info": {
   "codemirror_mode": {
    "name": "ipython",
    "version": 3
   },
   "file_extension": ".py",
   "mimetype": "text/x-python",
   "name": "python",
   "nbconvert_exporter": "python",
   "pygments_lexer": "ipython3",
   "version": "3.11.3"
  }
 },
 "nbformat": 4,
 "nbformat_minor": 5
}
